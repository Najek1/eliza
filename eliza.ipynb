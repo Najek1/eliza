{
  "nbformat": 4,
  "nbformat_minor": 0,
  "metadata": {
    "colab": {
      "provenance": [],
      "authorship_tag": "ABX9TyOP/VEQ/uqc1C22hfXZ2JFw",
      "include_colab_link": true
    },
    "kernelspec": {
      "name": "python3",
      "display_name": "Python 3"
    },
    "language_info": {
      "name": "python"
    }
  },
  "cells": [
    {
      "cell_type": "markdown",
      "metadata": {
        "id": "view-in-github",
        "colab_type": "text"
      },
      "source": [
        "<a href=\"https://colab.research.google.com/github/Najek1/eliza/blob/main/eliza.ipynb\" target=\"_parent\"><img src=\"https://colab.research.google.com/assets/colab-badge.svg\" alt=\"Open In Colab\"/></a>"
      ]
    },
    {
      "cell_type": "code",
      "execution_count": 1,
      "metadata": {
        "colab": {
          "base_uri": "https://localhost:8080/"
        },
        "id": "7Fkzh_71DRbP",
        "outputId": "b2f44647-f943-4e29-9f60-32e2dd2d3881"
      },
      "outputs": [
        {
          "output_type": "stream",
          "name": "stdout",
          "text": [
            "ELIZA: Cześć! Jestem ELIZA. Jak mogę ci pomóc?\n",
            "TY: jest mi dobrze\n",
            "ELIZA: Porozmawiajmy o tym więcej.\n",
            "TY: może nie\n",
            "ELIZA: Powiedz mi więcej o tym.\n",
            "TY: chyba nie chcę z tobą gadać\n",
            "ELIZA: Dlaczego tak mówisz?\n",
            "TY: jesteś sztuczna\n",
            "ELIZA: Dlaczego tak mówisz?\n",
            "TY: bo tak\n",
            "ELIZA: Powiedz mi więcej o tym.\n",
            "TY: pa\n",
            "ELIZA: Do widzenia! Trzymaj się.\n"
          ]
        }
      ],
      "source": [
        "import re\n",
        "import random\n",
        "\n",
        "def eliza_response(user_input):\n",
        "    responses = [\n",
        "        (r'(?i)potrzebuję (.*)',\n",
        "         [\"Dlaczego potrzebujesz {0}?\", \"Czy to naprawdę ci pomoże?\", \"Jesteś pewien, że potrzebujesz {0}?\"]),\n",
        "\n",
        "        (r'(?i)dlaczego nie (.*)',\n",
        "         [\"Czy naprawdę myślisz, że nie {0}?\", \"Może zrobię to w przyszłości.\", \"Dlaczego pytasz?\"]),\n",
        "\n",
        "        (r'(?i)czy możesz (.*)',\n",
        "         [\"Może mógłbym {0}, ale nie jestem pewien.\", \"Dlaczego myślisz, że mogę {0}?\"]),\n",
        "\n",
        "        (r'(?i)jestem (.*)',\n",
        "         [\"Jak długo jesteś {0}?\", \"Czy lubisz być {0}?\", \"Dlaczego mówisz, że jesteś {0}?\"]),\n",
        "\n",
        "        (r'(?i)jak (.*)',\n",
        "         [\"Dlaczego pytasz, jak {0}?\", \"Czy to pytanie cię interesuje?\", \"Co o tym myślisz?\"]),\n",
        "\n",
        "        (r'(?i)ponieważ (.*)',\n",
        "         [\"Czy to naprawdę powód?\", \"Jakie mogą być inne powody?\", \"To brzmi sensownie.\"]),\n",
        "\n",
        "        (r'(?i)cześć|hej|witaj',\n",
        "         [\"Cześć! Jak mogę ci pomóc?\", \"Hej! Co masz na myśli?\", \"Witaj! O czym chciałbyś porozmawiać?\"]),\n",
        "\n",
        "        (r'(?i)tak',\n",
        "         [\"Brzmisz bardzo pewnie.\", \"Dobrze, powiedz mi więcej.\"]),\n",
        "\n",
        "        (r'(?i)nie',\n",
        "         [\"Dlaczego nie?\", \"Jesteś pewien?\", \"Możesz to wyjaśnić?\"]),\n",
        "\n",
        "        (r'(?i)(.*) matka (.*)',\n",
        "         [\"Powiedz mi więcej o swojej matce.\", \"Jakie masz relacje z matką?\", \"Czy twoja matka ma na ciebie duży wpływ?\"]),\n",
        "\n",
        "        (r'(?i)czuję się (.*)',\n",
        "         [\"Dlaczego czujesz się {0}?\", \"Co sprawia, że czujesz się {0}?\", \"Czy często czujesz się {0}?\"]),\n",
        "\n",
        "        (r'(?i)moje imię to (.*)',\n",
        "         [\"Miło cię poznać, {0}! Jak się dzisiaj czujesz?\", \"Cześć, {0}! O czym chcesz porozmawiać?\"]),\n",
        "\n",
        "        (r'(?i)co robisz\\?',\n",
        "         [\"Rozmawiam z tobą.\", \"Analizuję twoje słowa.\", \"Słucham cię uważnie.\"]),\n",
        "\n",
        "        (r'(?i)kim jesteś\\?',\n",
        "         [\"Jestem ELIZA, twój wirtualny terapeuta.\", \"Jestem programem komputerowym stworzonym do rozmowy.\", \"Jestem sztuczną inteligencją, ale chętnie porozmawiam.\"]),\n",
        "\n",
        "        (r'(?i)co lubisz\\?',\n",
        "         [\"Lubię rozmawiać z ludźmi.\", \"Lubię analizować język.\", \"Lubię, gdy ludzie dzielą się swoimi myślami.\"]),\n",
        "\n",
        "        (r'(?i)czy jesteś prawdziwy\\?',\n",
        "         [\"Jestem programem komputerowym, ale mogę z tobą porozmawiać.\", \"Czy dla ciebie prawdziwość oznacza bycie człowiekiem?\", \"Co sprawia, że coś jest prawdziwe?\"]),\n",
        "\n",
        "        (r'(?i)(.*)',\n",
        "         [\"Powiedz mi więcej o tym.\", \"Dlaczego tak mówisz?\", \"Jak się z tym czujesz?\", \"Porozmawiajmy o tym więcej.\"])\n",
        "    ]\n",
        "\n",
        "    for pattern, responses_list in responses:\n",
        "        match = re.match(pattern, user_input)\n",
        "        if match:\n",
        "            response = random.choice(responses_list)\n",
        "            return response.format(*match.groups())\n",
        "\n",
        "    return \"Nie jestem pewien, czy cię rozumiem. Czy możesz to wyjaśnić?\"\n",
        "\n",
        "def chat():\n",
        "    print(\"ELIZA: Cześć! Jestem ELIZA. Jak mogę ci pomóc?\")\n",
        "    while True:\n",
        "        user_input = input(\"TY: \")\n",
        "        if user_input.lower() in [\"exit\", \"quit\", \"bye\", \"koniec\", \"do widzenia\", \"pa\"]:\n",
        "            print(\"ELIZA: Do widzenia! Trzymaj się.\")\n",
        "            break\n",
        "        response = eliza_response(user_input)\n",
        "        print(f\"ELIZA: {response}\")\n",
        "\n",
        "if __name__ == \"__main__\":\n",
        "    chat()"
      ]
    }
  ]
}